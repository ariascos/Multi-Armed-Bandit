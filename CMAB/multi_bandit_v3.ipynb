{
 "cells": [
  {
   "cell_type": "code",
   "execution_count": 1,
   "metadata": {},
   "outputs": [],
   "source": [
    "%load_ext autoreload\n",
    "%autoreload 2"
   ]
  },
  {
   "cell_type": "code",
   "execution_count": 2,
   "metadata": {},
   "outputs": [],
   "source": [
    "import numpy as np\n",
    "import pandas as pd\n",
    "import matplotlib.pyplot as plt\n",
    "import seaborn as sns\n",
    "from time import time\n",
    "\n",
    "from tqdm import tqdm\n",
    "from discovery import Chen, LLR, UCB1\n",
    "\n",
    "from discoveryV2 import Chen as ChenSUB\n",
    "from discoveryV2 import LLR as LLRSUB"
   ]
  },
  {
   "cell_type": "code",
   "execution_count": 3,
   "metadata": {},
   "outputs": [],
   "source": [
    "# Definimos la semilla para la replicabilidad del código\n",
    "np.random.seed(8262022)\n",
    "\n",
    "# Número de cuadrantes\n",
    "M = 1000\n",
    "# Cantidad de brazos (o policías)\n",
    "K = 50\n",
    "# Períodos de tiempo\n",
    "T_max = 10000\n",
    "# Probabilidad de observar el crimen perfectamente en los cuadrantes no visitados\n",
    "p = 0\n",
    "# Media del crimen por cudrante\n",
    "mu_reales = np.random.randint(low = 4, high = 100, size = M)\n",
    "# Ahora vamos a encontrar rho que es la probabilidad de éxito de nuestra binomial\n",
    "# N puede ser cualquier cosa pero dejamos un número interpretable\n",
    "N = 1000\n",
    "rho = mu_reales / N\n",
    "\n",
    "q = np.random.uniform(size=M)\n",
    "# q = .5 * np.ones(M)\n",
    "\n",
    "variance_tolerance = .1\n",
    "distance_tolerance = .1\n",
    "\n",
    "use_distance = True\n",
    "distnace_f = lambda x_1, x_2: np.linalg.norm(x_1 - x_2)"
   ]
  },
  {
   "cell_type": "code",
   "execution_count": 4,
   "metadata": {},
   "outputs": [],
   "source": [
    "llr = LLR(M, K, N, q, rho, underreporting=False)\n",
    "ucb1 =  UCB1(M, K, N, q, rho)\n",
    "\n",
    "\n",
    "llr_sub = LLRSUB(M, K, N, q, rho, underreporting=False)"
   ]
  },
  {
   "cell_type": "markdown",
   "metadata": {},
   "source": [
    "# Chen"
   ]
  },
  {
   "cell_type": "code",
   "execution_count": 5,
   "metadata": {},
   "outputs": [],
   "source": [
    "chen = Chen(M, K, N, rho, q)\n",
    "\n",
    "# Total number of times arm i is played so far\n",
    "T_i = np.zeros(M)\n",
    "\n",
    "# Mean outcomes\n",
    "mu_hat = np.ones(M)\n",
    "\n",
    "X_T = np.zeros((T_max, M))\n",
    "\n",
    "S_T = np.zeros((T_max, M))\n",
    "\n",
    "historical_mu_hat = np.zeros((T_max, M))\n",
    "\n",
    "historical_mu_bar = np.zeros((T_max, M))\n",
    "\n",
    "t = 0\n",
    "while (use_distance and distnace_f(mu_hat, rho) > distance_tolerance) or \\\n",
    "    (not use_distance and distnace_f(mu_hat, historical_mu_hat[t]) > variance_tolerance):\n",
    "\n",
    "    t += 1\n",
    "\n",
    "    # save historical mu_hat's\n",
    "    historical_mu_hat[t - 1] = mu_hat\n",
    "\n",
    "    # update rule\n",
    "    mu_bar = chen.update_rule(t, mu_hat, T_i)\n",
    "    historical_mu_bar[t - 1] = mu_bar\n",
    "\n",
    "    #oracle\n",
    "    S = chen.oracle(mu_bar)\n",
    "\n",
    "    # 0-index\n",
    "    S_T[t - 1] = S\n",
    "    T_i[S.astype(bool)] += 1\n",
    "    \n",
    "    # update m_hat, t_i\n",
    "    mu_hat = chen.update_mu_hat_t_i(S, X_T, t, S_T)\n",
    "\n",
    "res_dict = {\n",
    "    'X_T': X_T[:t],\n",
    "    'S_T': S_T[:t],\n",
    "    'T_i': T_i[:t], \n",
    "    'historical_mu_hat': historical_mu_hat[:t],\n",
    "    't': t}\n",
    "\n",
    "chen.set_results_dictionary(res_dict)\n",
    "\n",
    "del X_T, S_T, T_i, historical_mu_hat \n"
   ]
  },
  {
   "cell_type": "code",
   "execution_count": 5,
   "metadata": {},
   "outputs": [
    {
     "data": {
      "text/plain": [
       "array([0.096, 0.06 , 0.078, 0.045, 0.062, 0.072, 0.005, 0.031, 0.048,\n",
       "       0.05 ])"
      ]
     },
     "execution_count": 5,
     "metadata": {},
     "output_type": "execute_result"
    }
   ],
   "source": [
    "rho[:10]"
   ]
  },
  {
   "cell_type": "code",
   "execution_count": 6,
   "metadata": {},
   "outputs": [
    {
     "data": {
      "text/plain": [
       "array([0.0945    , 0.06133333, 0.0814    , 0.04566667, 0.06277778,\n",
       "       0.0696    , 0.006     , 0.032     , 0.04644444, 0.04888889])"
      ]
     },
     "execution_count": 6,
     "metadata": {},
     "output_type": "execute_result"
    }
   ],
   "source": [
    "chen.results.get('historical_mu_hat')[-1][:10]"
   ]
  }
 ],
 "metadata": {
  "kernelspec": {
   "display_name": "Python 3 (ipykernel)",
   "language": "python",
   "name": "python3"
  },
  "language_info": {
   "codemirror_mode": {
    "name": "ipython",
    "version": 3
   },
   "file_extension": ".py",
   "mimetype": "text/x-python",
   "name": "python",
   "nbconvert_exporter": "python",
   "pygments_lexer": "ipython3",
   "version": "3.9.7"
  },
  "vscode": {
   "interpreter": {
    "hash": "9d1551fa46f9e82a7abab90bc4adcde7b723fa4e9951d0f8f7b40f50696411b2"
   }
  }
 },
 "nbformat": 4,
 "nbformat_minor": 4
}
